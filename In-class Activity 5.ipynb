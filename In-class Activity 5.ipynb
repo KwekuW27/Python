{
 "cells": [
  {
   "cell_type": "markdown",
   "id": "47005ba3",
   "metadata": {},
   "source": [
    "## Instructions\n",
    "- Please work in your groups\n",
    "- Each student has to write it's solution in a notebook with the title as <b> In-class-Activity5-YOURNAME </b>\n",
    "- You can ask questions with each other and with me to help you in solving the problems\n",
    "- Please submit your notebooks on blackboard after completion\n",
    "- If you have finished the exercise and have no more questions, you can leave the class otherwise stay back for any further queries."
   ]
  },
  {
   "attachments": {
    "image.png": {
     "image/png": "[encoded data removed]"
    }
   },
   "cell_type": "markdown",
   "id": "4e3a40a1",
   "metadata": {},
   "source": [
    "## Problem 1\n",
    "In the company you work for, employees receive a yearly pay rise of 3%. You've been asked to create a code with a representation of each employee, including their current salary. The salary of each employee in  years time can be calculated from their current salary using the formula:\n",
    "![image.png](attachment:image.png)\n",
    "\n",
    "\n",
    "Create a classes named `Employee` which should contain two methods:\n",
    "`set_salary` : Takes an argument and stores this value in the instance of Employee as a instance variable named salary\n",
    "`calculate_future_salary` which takes a argument to represent the number of years time the salary is to be calculated for and returns that value\n",
    "\n",
    "Then, create two instances of this class assigned to variables named \"jill\" and \"joe\" to represent two employees. Jill has a salary of `£30,000/year` and Joe has a current salary of `£28,000/year`. Set these values using the `set_salary` value. Then use the `calculate_future_salary` method to calculate the salaries each will be getting in 2 years and 5 years time. Print these values and check they're correct."
   ]
  },
  {
   "cell_type": "code",
   "execution_count": 6,
   "id": "274d1b8c",
   "metadata": {},
   "outputs": [
    {
     "name": "stdout",
     "output_type": "stream",
     "text": [
      "Jill's salary in 2 years: £31827.00/year\n",
      "Joe's salary in 2 years: £29705.20/year\n",
      "Jill's salary in 5 years: £34778.22/year\n",
      "Joe's salary in 5 years: £32459.67/year\n"
     ]
    }
   ],
   "source": [
    "class Employee:\n",
    "    def __init__(slf):\n",
    "        slf.sry = 0\n",
    "\n",
    "    def set_salary(slf, crrnt_sry):\n",
    "        slf.sry = crrnt_sry\n",
    "\n",
    "    def calculate_future_salary(slf, yrs):\n",
    "        ftre_sry = slf.sry * (1 + 0.03) ** yrs\n",
    "        return ftre_sry\n",
    "\n",
    "jill = Employee()\n",
    "jill.set_salary(30000)\n",
    "\n",
    "joe = Employee()\n",
    "joe.set_salary(28000)\n",
    "\n",
    "yrs_jill = 2\n",
    "yrs_joe = 5\n",
    "\n",
    "sry_jill_2_yrs = jill.calculate_future_salary(yrs_jill)\n",
    "sry_joe_2_yrs = joe.calculate_future_salary(yrs_jill)\n",
    "\n",
    "sry_jill_5_yrs = jill.calculate_future_salary(yrs_joe)\n",
    "sry_joe_5_yrs = joe.calculate_future_salary(yrs_joe)\n",
    "\n",
    "print(f\"Jill's salary in {yrs_jill} years: £{sry_jill_2_yrs:.2f}/year\")\n",
    "print(f\"Joe's salary in {yrs_jill} years: £{sry_joe_2_yrs:.2f}/year\")\n",
    "\n",
    "print(f\"Jill's salary in {yrs_joe} years: £{sry_jill_5_yrs:.2f}/year\")\n",
    "print(f\"Joe's salary in {yrs_joe} years: £{sry_joe_5_yrs:.2f}/year\")"
   ]
  }
 ],
 "metadata": {
  "kernelspec": {
   "display_name": "Python 3 (ipykernel)",
   "language": "python",
   "name": "python3"
  },
  "language_info": {
   "codemirror_mode": {
    "name": "ipython",
    "version": 3
   },
   "file_extension": ".py",
   "mimetype": "text/x-python",
   "name": "python",
   "nbconvert_exporter": "python",
   "pygments_lexer": "ipython3",
   "version": "3.9.7"
  }
 },
 "nbformat": 4,
 "nbformat_minor": 5
}
