{
 "cells": [
  {
   "cell_type": "markdown",
   "id": "47005ba3",
   "metadata": {},
   "source": [
    "## Instructions\n",
    "- Please work in your groups\n",
    "- Each student has to write it's solution in a notebook with the title as <b> In-class-Activity4-YOURNAME </b>\n",
    "- You can ask questions with each other and with me to help you in solving the problems\n",
    "- Please submit your notebooks on blackboard after completion\n",
    "- If you have finished the exercise and have no more questions, you can leave the class otherwise stay back for any further queries."
   ]
  },
  {
   "cell_type": "markdown",
   "id": "4e3a40a1",
   "metadata": {},
   "source": [
    "## Problem 1\n",
    "### Suggest Footwear\n",
    "### Write a program that will give suggested footwear based on the weather. Ask the user for the weather outside with three options (sunny, rainy, or snowy) and give the correct footwear suggestion (sneaker, gumboot, or boots). Each option should be written as its own function that prints a message based on the input. \n",
    "\n",
    "- If the weather is sunny then the message has to be: <b> 'It is sunny day, good to wear sneaker!' </b>\n",
    "- If the weather is rainy then the message has to be: <b>'Oops! its raining, better wear gumbot'</b>\n",
    "- If the weather is snowy then the message has to be: <b>'Wow! its snowing, better wear boot'</b>\n",
    "- If the weather is cloudy then the message has to be: <b>'No footwear avaibale for cloudy'</b>"
   ]
  },
  {
   "cell_type": "markdown",
   "id": "24155752",
   "metadata": {},
   "source": [
    "### Test the designed function for the weather `sunny` and `cloudy`"
   ]
  },
  {
   "cell_type": "code",
   "execution_count": 13,
   "id": "929d84b9",
   "metadata": {},
   "outputs": [
    {
     "name": "stdout",
     "output_type": "stream",
     "text": [
      "It is a sunny day, good to wear sneakers!\n",
      "No footwear available for cloudy.\n"
     ]
    }
   ],
   "source": [
    "def suggestFW(weather):\n",
    "    if weather == 'sunny':\n",
    "        print(\"It is a sunny day, good to wear sneakers!\")\n",
    "    elif weather == 'rainy':\n",
    "        print(\"Oops! It's raining, better wear gumboots.\")\n",
    "    elif weather == 'snowy':\n",
    "        print(\"Wow! It's snowing, better wear boots.\")\n",
    "    else:\n",
    "        print(\"No footwear available for cloudy.\")\n",
    "suggestFW('sunny')\n",
    "suggestFW('cloudy')"
   ]
  },
  {
   "cell_type": "markdown",
   "id": "17ef027f",
   "metadata": {},
   "source": [
    "## 1. Bonus Problem \n",
    "### This problem is optional and can be used to replace if any of the above problems are incorrect. If all are correct then it can be used for additional practice."
   ]
  },
  {
   "cell_type": "markdown",
   "id": "9857003a",
   "metadata": {},
   "source": [
    "### Write a function that takes three integers between 1 and 11.\n",
    "- if their sum is less than or equal to 21, return their sum. \n",
    "- If their sum exceeds 21 and there's an 11, reduce the total sum by 10. \n",
    "- Finally, if the sum (even after adjustment) exceeds 21, return 'BUST'\n",
    "\n",
    "### Example outputs:\n",
    "\n",
    "### blackjack(5,6,7) --> 18\n",
    "### blackjack(9,9,9) --> 'BUST'\n",
    "### blackjack(9,9,11) --> 19"
   ]
  },
  {
   "cell_type": "code",
   "execution_count": 14,
   "id": "f23591dc",
   "metadata": {},
   "outputs": [
    {
     "name": "stdout",
     "output_type": "stream",
     "text": [
      "18\n",
      "BUST\n",
      "19\n"
     ]
    }
   ],
   "source": [
    "def blackJack(a, b, c):\n",
    "    totalSum = a + b + c\n",
    "\n",
    "    if totalSum <= 21:\n",
    "        return totalSum\n",
    "    elif 11 in (a, b, c):\n",
    "        totalSum -= 10  \n",
    "        if totalSum <= 21:\n",
    "            return totalSum\n",
    "        else:\n",
    "            return 'BUST'\n",
    "    else:\n",
    "        return 'BUST'\n",
    "print(blackJack(5, 6, 7)) \n",
    "print(blackJack(9, 9, 9)) \n",
    "print(blackJack(9, 9, 11))  "
   ]
  },
  {
   "cell_type": "markdown",
   "id": "9a5a2911",
   "metadata": {},
   "source": [
    "### Test the designed function for the numbers above three cases\n"
   ]
  },
  {
   "cell_type": "markdown",
   "id": "f44570d2",
   "metadata": {},
   "source": [
    "## 2. Challenging Bonus Problem\n",
    "### This problem is optional and can be used for additional practice and brainstorming"
   ]
  },
  {
   "cell_type": "markdown",
   "id": "1b38bfbf",
   "metadata": {},
   "source": [
    "### SPY GAME: Write a function that takes in a list of integers and returns True if it contains 007 in order\n",
    "\n",
    "### Example outputs\n",
    " ### spy_game([1,2,4,0,0,7,5]) --> True\n",
    " ### spy_game([1,0,2,4,0,5,7]) --> True\n",
    " ### spy_game([1,7,2,0,4,5,0]) --> False\n",
    " \n",
    "### Test the designed function for the  above three cases\n"
   ]
  },
  {
   "cell_type": "code",
   "execution_count": 15,
   "id": "4974178b",
   "metadata": {},
   "outputs": [
    {
     "name": "stdout",
     "output_type": "stream",
     "text": [
      "True\n",
      "True\n",
      "False\n"
     ]
    }
   ],
   "source": [
    "def spyG(nums):\n",
    "    code = [0, 0, 7]\n",
    "    \n",
    "    for num in nums:\n",
    "        if num == code[0]:\n",
    "            code.pop(0)\n",
    "        if not code:\n",
    "            return True\n",
    "    \n",
    "    return False\n",
    "print(spyG([1, 2, 4, 0, 0, 7, 5]))  \n",
    "print(spyG([1, 0, 2, 4, 0, 5, 7]))  \n",
    "print(spyG([1, 7, 2, 0, 4, 5, 0])) "
   ]
  }
 ],
 "metadata": {
  "kernelspec": {
   "display_name": "Python 3 (ipykernel)",
   "language": "python",
   "name": "python3"
  },
  "language_info": {
   "codemirror_mode": {
    "name": "ipython",
    "version": 3
   },
   "file_extension": ".py",
   "mimetype": "text/x-python",
   "name": "python",
   "nbconvert_exporter": "python",
   "pygments_lexer": "ipython3",
   "version": "3.9.7"
  }
 },
 "nbformat": 4,
 "nbformat_minor": 5
}
