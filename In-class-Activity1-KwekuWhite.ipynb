{
 "cells": [
  {
   "cell_type": "markdown",
   "id": "47005ba3",
   "metadata": {},
   "source": [
    "## Instructions\n",
    "- Please work in your groups\n",
    "- Each student has to write it's solution in a notebook with the title as <b> In-class-Activity1-YOURNAME </b>\n",
    "- You can ask questions with each other and with me to help you in solving the problems\n",
    "- Please submit your notebooks on blackboard after completion\n",
    "- If you have finished the exercise and have no more questions, you can leave the class otherwise stay back for any further queries."
   ]
  },
  {
   "cell_type": "markdown",
   "id": "4e3a40a1",
   "metadata": {},
   "source": [
    "## Problem 1\n",
    "### Write commands to perform operations on new_string as defined below:\n",
    "\n",
    "- 1. Replace `is` with `is a` in the string\n",
    "- 2. Find the index of `sensitive` in the string\n",
    "- 3. Split the String in `t`\n",
    "- 4. Concatenate string `and multipurpose language` in the existing string\n",
    "- 5. Check if the string starts with `P`\n",
    "- 6. Check if the string contains `language`"
   ]
  },
  {
   "cell_type": "code",
   "execution_count": 38,
   "id": "9c8f2459",
   "metadata": {},
   "outputs": [],
   "source": [
    "new_string = \"Python is case sensitive language\""
   ]
  },
  {
   "cell_type": "code",
   "execution_count": 39,
   "id": "a5e6a8d0",
   "metadata": {},
   "outputs": [
    {
     "name": "stdout",
     "output_type": "stream",
     "text": [
      "Python is a case sensitive language\n"
     ]
    }
   ],
   "source": [
    "new_string = new_string.replace(\"is\", \"is a\")\n",
    "print(new_string)"
   ]
  },
  {
   "cell_type": "code",
   "execution_count": 40,
   "id": "304b805e",
   "metadata": {},
   "outputs": [
    {
     "name": "stdout",
     "output_type": "stream",
     "text": [
      "Index position of sensitive is 17\n"
     ]
    }
   ],
   "source": [
    "index_sensitive = new_string.find(\"sensitive\")\n",
    "print(\"Index position of sensitive is\", index_sensitive)\n"
   ]
  },
  {
   "cell_type": "code",
   "execution_count": 41,
   "id": "6fb8cfc3",
   "metadata": {},
   "outputs": [
    {
     "name": "stdout",
     "output_type": "stream",
     "text": [
      "['Python', 'is', 'a', 'case', 'sensitive', 'language']\n"
     ]
    }
   ],
   "source": [
    "t = new_string.split()\n",
    "print(t)"
   ]
  },
  {
   "cell_type": "code",
   "execution_count": 42,
   "id": "bf98cea7",
   "metadata": {},
   "outputs": [
    {
     "name": "stdout",
     "output_type": "stream",
     "text": [
      "Python is a case sensitive language and multipurpose language\n"
     ]
    }
   ],
   "source": [
    "new_string = new_string + \" and multipurpose language\"\n",
    "print(new_string)"
   ]
  },
  {
   "cell_type": "code",
   "execution_count": 43,
   "id": "0c25a133",
   "metadata": {},
   "outputs": [
    {
     "name": "stdout",
     "output_type": "stream",
     "text": [
      "True\n"
     ]
    }
   ],
   "source": [
    "P = new_string.startswith(\"P\")\n",
    "print(P)"
   ]
  },
  {
   "cell_type": "code",
   "execution_count": 44,
   "id": "0230c3ab",
   "metadata": {},
   "outputs": [
    {
     "name": "stdout",
     "output_type": "stream",
     "text": [
      "True\n"
     ]
    }
   ],
   "source": [
    "includes_language = \"language\" in new_string\n",
    "print(includes_language)"
   ]
  },
  {
   "attachments": {},
   "cell_type": "markdown",
   "id": "9857003a",
   "metadata": {},
   "source": [
    "## Problem 2\n",
    "### Write commands to perform operations on country_list as defined below:\n",
    "- 1. Access 4th element of list\n",
    "- 2. Access 2nd to 4th element of list\n",
    "- 3. Add another country named `India` into the list\n",
    "- 4. Replace `Japan` with `USA`\n",
    "- 5. Remove the element at index 2\n",
    "- 6. Access 2nd element of the list, store it in a new variable and count number of times `a` appears in the string"
   ]
  },
  {
   "cell_type": "code",
   "execution_count": 45,
   "id": "47462f37",
   "metadata": {},
   "outputs": [],
   "source": [
    "country_list = [\"Afghanistan\", \"Canada\", \"Thailand\", \"Denmark\", \"Japan\"]"
   ]
  },
  {
   "cell_type": "code",
   "execution_count": 46,
   "id": "34e70055",
   "metadata": {},
   "outputs": [
    {
     "name": "stdout",
     "output_type": "stream",
     "text": [
      "Denmark\n"
     ]
    }
   ],
   "source": [
    "fourth_element = country_list[3]\n",
    "print(fourth_element)"
   ]
  },
  {
   "cell_type": "code",
   "execution_count": 47,
   "id": "d85b8bbb",
   "metadata": {},
   "outputs": [
    {
     "name": "stdout",
     "output_type": "stream",
     "text": [
      "['Canada', 'Thailand', 'Denmark']\n"
     ]
    }
   ],
   "source": [
    "subset = country_list[1:4]\n",
    "print(subset)"
   ]
  },
  {
   "cell_type": "code",
   "execution_count": 48,
   "id": "3d63cad6",
   "metadata": {},
   "outputs": [
    {
     "name": "stdout",
     "output_type": "stream",
     "text": [
      "['Afghanistan', 'Canada', 'Thailand', 'Denmark', 'Japan', 'India']\n"
     ]
    }
   ],
   "source": [
    "country_list.append(\"India\")\n",
    "print(country_list)"
   ]
  },
  {
   "cell_type": "code",
   "execution_count": 49,
   "id": "ad1c0847",
   "metadata": {},
   "outputs": [
    {
     "name": "stdout",
     "output_type": "stream",
     "text": [
      "['Afghanistan', 'Canada', 'Thailand', 'Denmark', 'USA', 'India']\n"
     ]
    }
   ],
   "source": [
    "country_list[4] = \"USA\"\n",
    "print(country_list)"
   ]
  },
  {
   "cell_type": "code",
   "execution_count": 50,
   "id": "296d5fc6",
   "metadata": {},
   "outputs": [
    {
     "name": "stdout",
     "output_type": "stream",
     "text": [
      "['Afghanistan', 'Canada', 'Denmark', 'USA', 'India']\n"
     ]
    }
   ],
   "source": [
    "del country_list[2]\n",
    "print(country_list)"
   ]
  },
  {
   "cell_type": "code",
   "execution_count": 51,
   "id": "9ca8fe88",
   "metadata": {},
   "outputs": [
    {
     "name": "stdout",
     "output_type": "stream",
     "text": [
      "Canada\n",
      "3\n"
     ]
    }
   ],
   "source": [
    "second_element = country_list[1]\n",
    "count = second_element.count('a')\n",
    "print(second_element)\n",
    "print(count)"
   ]
  },
  {
   "cell_type": "markdown",
   "id": "186f9eff",
   "metadata": {},
   "source": [
    "## Problem 3\n",
    "### Write commands to perform operations on given sets `A and B`\n",
    "\n",
    "- 1. Add new element `2.5` in the set `A`\n",
    "- 2. Add elements `USA` and `58` in the set `A`\n",
    "- 3. Remove element `4` from the set `A`\n",
    "<b> Note: Please don't use the resulting set after additional/removal for next problem. Do all the operations on the original set `A`. Either re-declare or use a new variable for addition/removal. </b>\n",
    "- 4. Pop 2 elements from the set `A`\n",
    "- 5. Perform intersection operation between sets `A and B`\n",
    "- 6. Check if the set `B` is a subset of set `A`"
   ]
  },
  {
   "cell_type": "code",
   "execution_count": 52,
   "id": "1e28768a",
   "metadata": {},
   "outputs": [],
   "source": [
    "A = {4, 5, 1, 9, 10, \"apple\", \"cherry\"}\n",
    "B = {\"apple\", 8, 9, \"USA\", True}"
   ]
  },
  {
   "cell_type": "code",
   "execution_count": 53,
   "id": "009850f4",
   "metadata": {},
   "outputs": [
    {
     "name": "stdout",
     "output_type": "stream",
     "text": [
      "{1, 2.5, 4, 5, 'apple', 9, 10, 'cherry'}\n"
     ]
    }
   ],
   "source": [
    "A.add(2.5)\n",
    "print(A)"
   ]
  },
  {
   "cell_type": "code",
   "execution_count": 54,
   "id": "f49b419e",
   "metadata": {},
   "outputs": [
    {
     "name": "stdout",
     "output_type": "stream",
     "text": [
      "{1, 2.5, 4, 5, 'apple', 9, 10, 'USA', 'cherry', 58}\n"
     ]
    }
   ],
   "source": [
    "A.update({\"USA\", 58})\n",
    "print(A)"
   ]
  },
  {
   "cell_type": "code",
   "execution_count": 55,
   "id": "6e20760c",
   "metadata": {},
   "outputs": [
    {
     "name": "stdout",
     "output_type": "stream",
     "text": [
      "{1, 2.5, 5, 'apple', 9, 10, 'USA', 'cherry', 58}\n"
     ]
    }
   ],
   "source": [
    "A.remove(4)\n",
    "print(A)\n"
   ]
  },
  {
   "cell_type": "code",
   "execution_count": 56,
   "id": "6a7f26a9",
   "metadata": {},
   "outputs": [
    {
     "name": "stdout",
     "output_type": "stream",
     "text": [
      "Set A after popping 2 elements: {5, 'apple', 9, 10, 'USA', 'cherry', 58}\n"
     ]
    }
   ],
   "source": [
    "for _ in range(2):\n",
    "    A.pop()\n",
    "print(\"Set A after popping 2 elements:\", A)"
   ]
  },
  {
   "cell_type": "code",
   "execution_count": 57,
   "id": "4f784fff",
   "metadata": {},
   "outputs": [
    {
     "name": "stdout",
     "output_type": "stream",
     "text": [
      "{'apple', 9, 'USA'}\n"
     ]
    }
   ],
   "source": [
    "intersection_result = A.intersection(B)\n",
    "print(intersection_result)"
   ]
  },
  {
   "cell_type": "code",
   "execution_count": 58,
   "id": "85bd6956",
   "metadata": {},
   "outputs": [
    {
     "name": "stdout",
     "output_type": "stream",
     "text": [
      "False\n"
     ]
    }
   ],
   "source": [
    "is_subset = B.issubset(A)\n",
    "print(is_subset)"
   ]
  },
  {
   "cell_type": "markdown",
   "id": "91580181",
   "metadata": {},
   "source": [
    "## Problem 4\n",
    "### Write commands to perform operations on dictionary `dict`\n",
    "- 1. Access the element with key `6323421`\n",
    "- 2. Add a new element with key value pairs as `786543: Allen`\n",
    "- 3. Update the value of `6323421` with `Sam`\n",
    "- 4. Remove the element with key `7323245`\n",
    "- 5. Return all keys of dictionary using dictionary method\n",
    "- 6. Check if `Moe` is a value in the dictionary\n",
    "\n",
    "<b> Note: For any manipulation operation, please don't use the resultuing manipulated dictionary for further problems. All the parts must be done on the original dictionary `dict` </b>"
   ]
  },
  {
   "cell_type": "code",
   "execution_count": 59,
   "id": "5dba500d",
   "metadata": {},
   "outputs": [],
   "source": [
    "dict = {\n",
    "    7323245: 'Joe',\n",
    "    9822912: 'Sue',\n",
    "    6323421: 'Moe'\n",
    "}"
   ]
  },
  {
   "cell_type": "code",
   "execution_count": 60,
   "id": "5c7a66d6",
   "metadata": {},
   "outputs": [
    {
     "name": "stdout",
     "output_type": "stream",
     "text": [
      "Moe\n"
     ]
    }
   ],
   "source": [
    "element_6323421 = dict[6323421]\n",
    "print(element_6323421)"
   ]
  },
  {
   "cell_type": "code",
   "execution_count": 61,
   "id": "6c05ce51",
   "metadata": {},
   "outputs": [
    {
     "name": "stdout",
     "output_type": "stream",
     "text": [
      "{7323245: 'Joe', 9822912: 'Sue', 6323421: 'Moe', 786543: 'Allen'}\n"
     ]
    }
   ],
   "source": [
    "dict[786543] = 'Allen'\n",
    "print(dict)"
   ]
  },
  {
   "cell_type": "code",
   "execution_count": 62,
   "id": "48b399fb",
   "metadata": {},
   "outputs": [
    {
     "name": "stdout",
     "output_type": "stream",
     "text": [
      "{7323245: 'Joe', 9822912: 'Sue', 6323421: 'Sam', 786543: 'Allen'}\n"
     ]
    }
   ],
   "source": [
    "dict[6323421] = 'Sam'\n",
    "print(dict)"
   ]
  },
  {
   "cell_type": "code",
   "execution_count": 63,
   "id": "695417d4",
   "metadata": {},
   "outputs": [
    {
     "name": "stdout",
     "output_type": "stream",
     "text": [
      "{9822912: 'Sue', 6323421: 'Sam', 786543: 'Allen'}\n"
     ]
    }
   ],
   "source": [
    "del dict[7323245]\n",
    "print(dict)"
   ]
  },
  {
   "cell_type": "code",
   "execution_count": 64,
   "id": "b8931b34",
   "metadata": {},
   "outputs": [
    {
     "name": "stdout",
     "output_type": "stream",
     "text": [
      "dict_keys([9822912, 6323421, 786543])\n"
     ]
    }
   ],
   "source": [
    "all_keys = dict.keys()\n",
    "print(all_keys)"
   ]
  },
  {
   "cell_type": "code",
   "execution_count": 65,
   "id": "8afea770",
   "metadata": {},
   "outputs": [
    {
     "name": "stdout",
     "output_type": "stream",
     "text": [
      "False\n"
     ]
    }
   ],
   "source": [
    "is_moe_in_dict = 'Moe' in dict.values()\n",
    "print(is_moe_in_dict)"
   ]
  }
 ],
 "metadata": {
  "kernelspec": {
   "display_name": "Python 3 (ipykernel)",
   "language": "python",
   "name": "python3"
  },
  "language_info": {
   "codemirror_mode": {
    "name": "ipython",
    "version": 3
   },
   "file_extension": ".py",
   "mimetype": "text/x-python",
   "name": "python",
   "nbconvert_exporter": "python",
   "pygments_lexer": "ipython3",
   "version": "3.9.7"
  }
 },
 "nbformat": 4,
 "nbformat_minor": 5
}
