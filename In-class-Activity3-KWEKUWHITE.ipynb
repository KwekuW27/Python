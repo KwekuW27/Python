{
 "cells": [
  {
   "attachments": {},
   "cell_type": "markdown",
   "metadata": {},
   "source": [
    "Problem 1"
   ]
  },
  {
   "cell_type": "code",
   "execution_count": 37,
   "metadata": {},
   "outputs": [
    {
     "name": "stdout",
     "output_type": "stream",
     "text": [
      "Elements of list A:\n",
      "4\n",
      "5\n",
      "1\n",
      "9\n",
      "10\n",
      "apple\n",
      "cherry\n"
     ]
    }
   ],
   "source": [
    "A = [4, 5, 1, 9, 10, \"apple\", \"cherry\"]\n",
    "\n",
    "print(\"Elements of list A:\")\n",
    "for element in A:\n",
    "    print(element)"
   ]
  },
  {
   "cell_type": "code",
   "execution_count": 38,
   "metadata": {},
   "outputs": [
    {
     "name": "stdout",
     "output_type": "stream",
     "text": [
      "1st 5 elements of list A:\n",
      "4\n",
      "5\n",
      "1\n",
      "9\n",
      "10\n"
     ]
    }
   ],
   "source": [
    "print(\"1st 5 elements of list A:\")\n",
    "for i in range(5):\n",
    "    print(A[i])"
   ]
  },
  {
   "cell_type": "code",
   "execution_count": 39,
   "metadata": {},
   "outputs": [
    {
     "name": "stdout",
     "output_type": "stream",
     "text": [
      "1 and 'cherry' from list A using a while loop:\n",
      "1\n",
      "cherry\n"
     ]
    }
   ],
   "source": [
    "print(\"1 and 'cherry' from list A using a while loop:\")\n",
    "index = 0\n",
    "while index < len(A):\n",
    "    if A[index] == 1 or A[index] == \"cherry\":\n",
    "        print(A[index])\n",
    "    index += 1"
   ]
  },
  {
   "attachments": {},
   "cell_type": "markdown",
   "metadata": {},
   "source": [
    "Bonus Problem"
   ]
  },
  {
   "cell_type": "code",
   "execution_count": 40,
   "metadata": {},
   "outputs": [
    {
     "name": "stdout",
     "output_type": "stream",
     "text": [
      "Strings in A: ['apple', 'cherry']\n",
      "# of characters in 'apple': 5\n",
      "# of characters in 'cherry': 6\n"
     ]
    }
   ],
   "source": [
    "stringL = []\n",
    "\n",
    "for element in A:\n",
    "    if isinstance(element, str):\n",
    "        stringL.append(element)\n",
    "\n",
    "print(\"Strings in A:\", stringL)\n",
    "\n",
    "for stR in stringL:\n",
    "    print(f\"# of characters in '{stR}': {len(stR)}\")"
   ]
  }
 ],
 "metadata": {
  "kernelspec": {
   "display_name": "base",
   "language": "python",
   "name": "python3"
  },
  "language_info": {
   "codemirror_mode": {
    "name": "ipython",
    "version": 3
   },
   "file_extension": ".py",
   "mimetype": "text/x-python",
   "name": "python",
   "nbconvert_exporter": "python",
   "pygments_lexer": "ipython3",
   "version": "3.9.7"
  },
  "orig_nbformat": 4
 },
 "nbformat": 4,
 "nbformat_minor": 2
}
